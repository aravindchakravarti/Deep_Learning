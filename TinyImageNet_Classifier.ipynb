{
  "nbformat": 4,
  "nbformat_minor": 0,
  "metadata": {
    "colab": {
      "name": "TinyImageNet_V6_02_APR_19.ipynb",
      "version": "0.3.2",
      "provenance": [],
      "collapsed_sections": [],
      "toc_visible": true
    },
    "kernelspec": {
      "name": "python3",
      "display_name": "Python 3"
    },
    "accelerator": "GPU"
  },
  "cells": [
    {
      "metadata": {
        "id": "8Zpdz94hgOlv",
        "colab_type": "text"
      },
      "cell_type": "markdown",
      "source": [
        "# Details \n",
        "\n",
        "---\n",
        "**Submitted By** : Aravind D. Chakravarti  \n",
        "**Batch**               : 08  \n",
        "**References**     : Rohan Shravan class notes/EIP sessions  and Andrew Ng Deep Learning AI (for RESNET-50 base code; However many things are modified to meet the Tinyimagenet dataset)  \n",
        "**Thanks**           : Rohan Shravan and EIP community \n",
        "                          \n",
        "\n",
        "---\n",
        "\n",
        "# Accuracy information\n",
        "I have got about 45.68% accuracy in the 39th Epoch\n",
        "\n",
        "\n",
        "---\n",
        "\n",
        "\n",
        "\n",
        "# Other details\n",
        "  * To begin with I took RESNET-50 architecture. I removed some *deep layers* of it it because we are deeling with 200 classes (not 1000 classes) and may be that much deep architecture will be *too much* for our application.\n",
        "  * I increased number of channel in each layer gradually, and took it upto 2048 kernels in the last layer. -- *Why? Because we have 200 classes*\n",
        "  * Took base model with Conv2D modified architecture --  Kept aim of meeting the validation accuracy, without much worrying about number of parameters. \n",
        "  * After reaching the validation accuracy, reduced the number of parameters by using \"SeperableConv2D\"\n",
        "  * Current number of parameters: Nearly 7 million\n",
        "  * Best accuracy : 45.68%\n",
        "                 \n",
        "                           \n",
        "\n",
        "---\n",
        "\n",
        "# What I understood?\n",
        "  * I could able to understand *Why ResNet* and *Its advantages*\n",
        "  * I could able to understand the ResNet paper by He *et al*\n",
        "  * I could able to use GAP effectively\n",
        "\n",
        "\n",
        "# What I missed?\n",
        "  * I could not do much of the augmentation which was the best method to get this model much more validation accuracy preventing the overfitting\n",
        "  \n",
        " "
      ]
    },
    {
      "metadata": {
        "id": "MVOKF130AEvK",
        "colab_type": "code",
        "outputId": "2fb1187e-f698-4815-9fcd-cde8376abe1b",
        "colab": {
          "base_uri": "https://localhost:8080/",
          "height": 34
        }
      },
      "cell_type": "code",
      "source": [
        "# Check the directory if we arleady have the tiny-imagenet-200 dataset downloaded\n",
        "!ls"
      ],
      "execution_count": 0,
      "outputs": [
        {
          "output_type": "stream",
          "text": [
            "sample_data\n"
          ],
          "name": "stdout"
        }
      ]
    },
    {
      "metadata": {
        "id": "2-uxInsGaQTb",
        "colab_type": "code",
        "outputId": "a8d7fe43-ec5c-48c7-8dc9-17b874178666",
        "colab": {
          "base_uri": "https://localhost:8080/",
          "height": 204
        }
      },
      "cell_type": "code",
      "source": [
        "## Download the dataset and unzip it\n",
        "!wget http://cs231n.stanford.edu/tiny-imagenet-200.zip"
      ],
      "execution_count": 0,
      "outputs": [
        {
          "output_type": "stream",
          "text": [
            "--2019-04-01 17:22:28--  http://cs231n.stanford.edu/tiny-imagenet-200.zip\n",
            "Resolving cs231n.stanford.edu (cs231n.stanford.edu)... 171.64.68.10\n",
            "Connecting to cs231n.stanford.edu (cs231n.stanford.edu)|171.64.68.10|:80... connected.\n",
            "HTTP request sent, awaiting response... 200 OK\n",
            "Length: 248100043 (237M) [application/zip]\n",
            "Saving to: ‘tiny-imagenet-200.zip’\n",
            "\n",
            "tiny-imagenet-200.z 100%[===================>] 236.61M  38.8MB/s    in 7.5s    \n",
            "\n",
            "2019-04-01 17:22:35 (31.7 MB/s) - ‘tiny-imagenet-200.zip’ saved [248100043/248100043]\n",
            "\n"
          ],
          "name": "stdout"
        }
      ]
    },
    {
      "metadata": {
        "id": "phm86ZULdPa1",
        "colab_type": "code",
        "outputId": "475b040f-4b6f-41c1-f631-e7fafc10eb0b",
        "colab": {
          "base_uri": "https://localhost:8080/",
          "height": 51
        }
      },
      "cell_type": "code",
      "source": [
        "## What if I need to unzip the data? Use below commands\n",
        "# Wonder what is that -qq parameter? That is telling the Linux to be quiter when it is unzipping\n",
        "!ls\n",
        "!unzip -qq 'tiny-imagenet-200.zip'\n",
        "!ls"
      ],
      "execution_count": 0,
      "outputs": [
        {
          "output_type": "stream",
          "text": [
            "sample_data  tiny-imagenet-200.zip\n",
            "sample_data  tiny-imagenet-200\ttiny-imagenet-200.zip\n"
          ],
          "name": "stdout"
        }
      ]
    },
    {
      "metadata": {
        "id": "vfwGijGrWjq3",
        "colab_type": "text"
      },
      "cell_type": "markdown",
      "source": [
        "# Few basic libraries required"
      ]
    },
    {
      "metadata": {
        "id": "7l_PCFURg9x_",
        "colab_type": "code",
        "outputId": "8dda4bbf-6ee0-4b03-b2ee-98c4e243f5f2",
        "colab": {
          "base_uri": "https://localhost:8080/",
          "height": 34
        }
      },
      "cell_type": "code",
      "source": [
        "import numpy as np\n",
        "import pandas as pd\n",
        "import tensorflow as tf\n",
        "\n",
        "import matplotlib.pyplot as plt\n",
        "%matplotlib  inline\n",
        "from keras.preprocessing.image import ImageDataGenerator"
      ],
      "execution_count": 0,
      "outputs": [
        {
          "output_type": "stream",
          "text": [
            "Using TensorFlow backend.\n"
          ],
          "name": "stderr"
        }
      ]
    },
    {
      "metadata": {
        "id": "tYhrf5-E8NVJ",
        "colab_type": "text"
      },
      "cell_type": "markdown",
      "source": [
        "## Libraries for our RESNET"
      ]
    },
    {
      "metadata": {
        "id": "e6RhFANi8SVw",
        "colab_type": "code",
        "colab": {}
      },
      "cell_type": "code",
      "source": [
        "import numpy as np\n",
        "from keras import layers\n",
        "from keras.layers import Input, Add, Dense, Activation, ZeroPadding2D, BatchNormalization, Flatten, Conv2D, AveragePooling2D, MaxPooling2D, GlobalMaxPooling2D, GlobalAveragePooling2D, SeparableConv2D\n",
        "from keras.models import Model, load_model\n",
        "from keras.preprocessing import image\n",
        "from keras.utils import layer_utils\n",
        "from keras.utils.data_utils import get_file\n",
        "from keras.applications.imagenet_utils import preprocess_input\n",
        "import pydot\n",
        "from IPython.display import SVG\n",
        "from keras.utils.vis_utils import model_to_dot\n",
        "from keras.utils import plot_model\n",
        "#from resnets_utils import *\n",
        "from keras.initializers import glorot_uniform\n",
        "import scipy.misc\n",
        "from matplotlib.pyplot import imshow\n",
        "%matplotlib inline\n",
        "\n",
        "import keras.backend as K\n",
        "K.set_image_data_format('channels_last')\n",
        "K.set_learning_phase(1)"
      ],
      "execution_count": 0,
      "outputs": []
    },
    {
      "metadata": {
        "id": "r7SjAhI2Jskn",
        "colab_type": "code",
        "outputId": "2db98adc-4ef2-44a7-c652-8b95bdbdf906",
        "colab": {
          "base_uri": "https://localhost:8080/",
          "height": 142
        }
      },
      "cell_type": "code",
      "source": [
        "val_data = pd.read_csv('./tiny-imagenet-200/val/val_annotations.txt', sep='\\t', header=None, names=['File', 'Class', 'X', 'Y', 'H', 'W'])\n",
        "val_data.drop(['X', 'Y', 'H', 'W'], axis=1, inplace=True)\n",
        "val_data.head(3)"
      ],
      "execution_count": 0,
      "outputs": [
        {
          "output_type": "execute_result",
          "data": {
            "text/html": [
              "<div>\n",
              "<style scoped>\n",
              "    .dataframe tbody tr th:only-of-type {\n",
              "        vertical-align: middle;\n",
              "    }\n",
              "\n",
              "    .dataframe tbody tr th {\n",
              "        vertical-align: top;\n",
              "    }\n",
              "\n",
              "    .dataframe thead th {\n",
              "        text-align: right;\n",
              "    }\n",
              "</style>\n",
              "<table border=\"1\" class=\"dataframe\">\n",
              "  <thead>\n",
              "    <tr style=\"text-align: right;\">\n",
              "      <th></th>\n",
              "      <th>File</th>\n",
              "      <th>Class</th>\n",
              "    </tr>\n",
              "  </thead>\n",
              "  <tbody>\n",
              "    <tr>\n",
              "      <th>0</th>\n",
              "      <td>val_0.JPEG</td>\n",
              "      <td>n03444034</td>\n",
              "    </tr>\n",
              "    <tr>\n",
              "      <th>1</th>\n",
              "      <td>val_1.JPEG</td>\n",
              "      <td>n04067472</td>\n",
              "    </tr>\n",
              "    <tr>\n",
              "      <th>2</th>\n",
              "      <td>val_2.JPEG</td>\n",
              "      <td>n04070727</td>\n",
              "    </tr>\n",
              "  </tbody>\n",
              "</table>\n",
              "</div>"
            ],
            "text/plain": [
              "         File      Class\n",
              "0  val_0.JPEG  n03444034\n",
              "1  val_1.JPEG  n04067472\n",
              "2  val_2.JPEG  n04070727"
            ]
          },
          "metadata": {
            "tags": []
          },
          "execution_count": 6
        }
      ]
    },
    {
      "metadata": {
        "id": "wRYLyZtwKKDp",
        "colab_type": "code",
        "colab": {}
      },
      "cell_type": "code",
      "source": [
        "# Zoom range is kept to 50%, this should give an effect of random image resizing upto 32x32 automatically\n",
        "# Some kind of skewing is done using width shift and height shift\n",
        "# 60 degree roation is done\n",
        "train_datagen = ImageDataGenerator(\n",
        "    rescale= 1./255,\n",
        "    zoom_range = 0.5,\n",
        "    width_shift_range=0.4,\n",
        "    height_shift_range=0.4,\n",
        "    rotation_range=60,\n",
        "    horizontal_flip=True\n",
        "    )\n",
        "\n",
        "valid_datagen = ImageDataGenerator(rescale=1./255)"
      ],
      "execution_count": 0,
      "outputs": []
    },
    {
      "metadata": {
        "id": "igYtU_VSKXto",
        "colab_type": "code",
        "outputId": "3e92a999-e322-4e94-d11e-5e2628d683fd",
        "colab": {
          "base_uri": "https://localhost:8080/",
          "height": 34
        }
      },
      "cell_type": "code",
      "source": [
        "# Get the training data, using batch size of 512\n",
        "train_generator = train_datagen.flow_from_directory( r'./tiny-imagenet-200/train/', target_size=(64, 64), color_mode='rgb', \n",
        "                                                    batch_size=512, class_mode='categorical', shuffle=True, seed=42)"
      ],
      "execution_count": 0,
      "outputs": [
        {
          "output_type": "stream",
          "text": [
            "Found 100000 images belonging to 200 classes.\n"
          ],
          "name": "stdout"
        }
      ]
    },
    {
      "metadata": {
        "id": "UBRfC4SdKbca",
        "colab_type": "code",
        "outputId": "b6aab694-e499-4b63-bfed-3379d3a6d985",
        "colab": {
          "base_uri": "https://localhost:8080/",
          "height": 34
        }
      },
      "cell_type": "code",
      "source": [
        "# Validation data\n",
        "validation_generator = valid_datagen.flow_from_dataframe(val_data, directory='./tiny-imagenet-200/val/images/', x_col='File', y_col='Class', target_size=(64, 64),\n",
        "                                                    color_mode='rgb', class_mode='categorical', batch_size=512, shuffle=True, seed=42)"
      ],
      "execution_count": 0,
      "outputs": [
        {
          "output_type": "stream",
          "text": [
            "Found 10000 images belonging to 200 classes.\n"
          ],
          "name": "stdout"
        }
      ]
    },
    {
      "metadata": {
        "id": "_JdSxA4S6Ua3",
        "colab_type": "text"
      },
      "cell_type": "markdown",
      "source": [
        "## Residual network architecture is built here.. \n",
        "### There are two kinds of blocks 'identity_block' and 'convolution block'\n",
        "\n",
        "  * Identity block is used when the input dimension is same as that of output block\n",
        "  * Convolution block is used when the input dimension is **not** same as that of output block\n"
      ]
    },
    {
      "metadata": {
        "id": "LVwCzUUMKeyF",
        "colab_type": "code",
        "colab": {}
      },
      "cell_type": "code",
      "source": [
        "def identity_block(X, f, filters, stage, block):\n",
        "    \"\"\"\n",
        "    X       - Input batch of images \n",
        "    filters - What should be the filter dimensions \n",
        "    stage   - Just for naming convensions\n",
        "    block   - Just for naming convensions\n",
        "    \"\"\"\n",
        "    \n",
        "    # defining name basis\n",
        "    conv_name_base = 'res' + str(stage) + block + '_branch'\n",
        "    bn_name_base = 'bn' + str(stage) + block + '_branch'\n",
        "    \n",
        "    # Get the filters\n",
        "    F1, F2, F3 = filters\n",
        "    \n",
        "    # Saving this for shortcut connections\n",
        "    X_shortcut = X\n",
        "    \n",
        "    # We have \n",
        "    # Input --> Conv  --> Conv --> Conv with addition\n",
        "    \n",
        "    X = SeparableConv2D(filters = F1, kernel_size = (3, 3), strides = (1,1), padding = 'same', name = conv_name_base + '2a', kernel_initializer = glorot_uniform(seed=0))(X)\n",
        "    X = BatchNormalization(axis = 3, name = bn_name_base + '2a')(X)\n",
        "    X = Activation('relu')(X)\n",
        "    \n",
        "      \n",
        "    X = SeparableConv2D(filters=F2, kernel_size=(f, f), strides=(1,1), padding='same', name = conv_name_base + '2b', kernel_initializer=glorot_uniform(seed=0))(X)\n",
        "    X = BatchNormalization(axis=3, name = bn_name_base + '2b')(X)\n",
        "    X = Activation('relu')(X)\n",
        "\n",
        "    \n",
        "    X = SeparableConv2D(filters=F3, kernel_size=(3,3), strides=(1,1), padding='same', name = conv_name_base + '2c', kernel_initializer=glorot_uniform(seed=0))(X)\n",
        "    X = BatchNormalization(axis=3, name = bn_name_base + '2c')(X)\n",
        "    \n",
        "    X = Add()([X, X_shortcut])\n",
        "      \n",
        "    X = Activation('relu')(X)\n",
        "    \n",
        "    \n",
        "    return X"
      ],
      "execution_count": 0,
      "outputs": []
    },
    {
      "metadata": {
        "id": "3d4WI1ca7UKk",
        "colab_type": "code",
        "colab": {}
      },
      "cell_type": "code",
      "source": [
        "def convolutional_block(X, f, filters, stage, block, s = 1):\n",
        "    \"\"\"\n",
        "    Arguments:\n",
        "    X       - Input batch of images \n",
        "    f       - filter shape\n",
        "    filters - What should be the filter dimensions \n",
        "    stage   - Just for naming convensions\n",
        "    block   - Just for naming convensions\n",
        "    \"\"\"\n",
        "    \n",
        "    # defining name basis\n",
        "    conv_name_base = 'res' + str(stage) + block + '_branch'\n",
        "    bn_name_base = 'bn' + str(stage) + block + '_branch'\n",
        "    \n",
        "    # Retrieve Filters\n",
        "    F1, F2, F3 = filters\n",
        "    \n",
        "    # For shortcut\n",
        "    X_shortcut = X\n",
        "\n",
        "\n",
        "    # First conv stage\n",
        "    X = SeparableConv2D(F1, (3, 3), strides = (s,s), padding= 'same', name = conv_name_base + '2a', kernel_initializer = glorot_uniform(seed=0))(X)\n",
        "    X = BatchNormalization(axis = 3, name = bn_name_base + '2a')(X)\n",
        "    X = Activation('relu')(X)\n",
        "    \n",
        "    # 2nd \n",
        "    X = SeparableConv2D(F2, (f, f), strides = (1,1), padding= 'same', name = conv_name_base + '2b', kernel_initializer = glorot_uniform(seed=0))(X)\n",
        "    X = BatchNormalization(axis=3, name = bn_name_base + '2b')(X)\n",
        "    X = Activation('relu')(X)\n",
        "\n",
        "    # 3rd\n",
        "    X = SeparableConv2D(F3, (3, 3), strides = (1,1), padding='same', name = conv_name_base + '2c', kernel_initializer = glorot_uniform(seed=0))(X)\n",
        "    X = BatchNormalization(axis=3, name = bn_name_base + '2c')(X)\n",
        "\n",
        "    # Shortcut\n",
        "    X_shortcut = SeparableConv2D(F3, (3,3), strides=(s,s), padding='same', name = conv_name_base + '1', kernel_initializer = glorot_uniform(seed=0))(X_shortcut)\n",
        "    X_shortcut = BatchNormalization(axis=3, name = bn_name_base + '1')(X_shortcut)\n",
        "\n",
        "    # Merge\n",
        "    X = Add()([X, X_shortcut])\n",
        "    X = Activation('relu')(X)\n",
        "      \n",
        "    return X"
      ],
      "execution_count": 0,
      "outputs": []
    },
    {
      "metadata": {
        "id": "SdkLNLjp7dBa",
        "colab_type": "text"
      },
      "cell_type": "markdown",
      "source": [
        "## Lets go ahead and build Resnet-50 (With some modifications)"
      ]
    },
    {
      "metadata": {
        "id": "kQ3iRrrd7oFC",
        "colab_type": "code",
        "colab": {}
      },
      "cell_type": "code",
      "source": [
        "def ResNet50(input_shape = (64, 64, 3), classes = 200):\n",
        "    \"\"\"\n",
        "    input_shape : shape of the images of the dataset\n",
        "    classes     : integer, number of classes\n",
        "\n",
        "    \"\"\"\n",
        "    \n",
        "    X_input = Input(input_shape)\n",
        "\n",
        "    # I know next line is not necessary but kept it for debugging purpose\n",
        "    X = X_input\n",
        "    \n",
        "    # Let us build some conv layer - These will probably get us the edges and gradients in image\n",
        "    X = Conv2D(64, (3, 3), strides = (1, 1), padding = 'same', name = 'res1a_conv1', kernel_initializer = glorot_uniform(seed=0))(X)\n",
        "    X = BatchNormalization(axis = 3, name = 'pre1a_bn_conv1')(X)\n",
        "    X = Activation('relu')(X)\n",
        "    \n",
        "    # Reduce the size of the image\n",
        "    X = MaxPooling2D((2, 2), strides=(2, 2))(X)   #32\n",
        "        \n",
        "    # Do some more convolutions\n",
        "    X = convolutional_block(X, f = 3, filters = [32, 64, 128], stage = 2, block='a')\n",
        "    \n",
        "    # Reduce the size of the image\n",
        "    X = MaxPooling2D((2, 2), strides=(2, 2))(X)   #16\n",
        "   \n",
        "    # Convolutions\n",
        "    X = convolutional_block(X, f=3, filters=[64, 128, 256], stage = 3, block='a')\n",
        "    X = identity_block(X, f=3, filters=[64, 128, 256], stage = 3, block='b')\n",
        "    \n",
        "    # Reduce the size of the image\n",
        "    X = MaxPooling2D((2, 2), strides=(2, 2))(X)   #8\n",
        "    \n",
        "    # Convoulutions\n",
        "    X = convolutional_block(X, f=3, filters=[256,512,2048], stage = 4, block = 'a')\n",
        "    X = identity_block(X, f=3, filters=[512,1024,2048], stage = 4, block = 'b')\n",
        "    \n",
        "    # Last convolutions with number of channels = number of classes\n",
        "    X = SeparableConv2D(200, (3, 3), strides = (1, 1), padding = 'same', name = 'last_conv', kernel_initializer = glorot_uniform(seed=0))(X)\n",
        " \n",
        "    # GAP layer\n",
        "    X = GlobalAveragePooling2D(data_format='channels_last')(X)\n",
        "   \n",
        "    # Softmax  \n",
        "    X = Activation('softmax')(X)\n",
        "    \n",
        "    \n",
        "    # Create model. Note: It is not exactly ResNet50 but kind of ResNET 50 .. Hence keeping it same\n",
        "    model = Model(inputs = X_input, outputs = X, name='ResNet50')\n",
        "\n",
        "    return model"
      ],
      "execution_count": 0,
      "outputs": []
    },
    {
      "metadata": {
        "id": "C82snJ9E7wPV",
        "colab_type": "code",
        "outputId": "0ee6a2dc-f8f0-4526-dd92-86b314518519",
        "colab": {
          "base_uri": "https://localhost:8080/",
          "height": 88
        }
      },
      "cell_type": "code",
      "source": [
        "model = ResNet50(input_shape = (64, 64, 3), classes = 200)"
      ],
      "execution_count": 0,
      "outputs": [
        {
          "output_type": "stream",
          "text": [
            "WARNING:tensorflow:From /usr/local/lib/python3.6/dist-packages/tensorflow/python/framework/op_def_library.py:263: colocate_with (from tensorflow.python.framework.ops) is deprecated and will be removed in a future version.\n",
            "Instructions for updating:\n",
            "Colocations handled automatically by placer.\n"
          ],
          "name": "stdout"
        }
      ]
    },
    {
      "metadata": {
        "id": "XO6NaqD_8w67",
        "colab_type": "code",
        "outputId": "ddfaea3c-d673-42e2-a580-c4b91f671316",
        "colab": {
          "base_uri": "https://localhost:8080/",
          "height": 2465
        }
      },
      "cell_type": "code",
      "source": [
        "model.summary()"
      ],
      "execution_count": 0,
      "outputs": [
        {
          "output_type": "stream",
          "text": [
            "__________________________________________________________________________________________________\n",
            "Layer (type)                    Output Shape         Param #     Connected to                     \n",
            "==================================================================================================\n",
            "input_1 (InputLayer)            (None, 64, 64, 3)    0                                            \n",
            "__________________________________________________________________________________________________\n",
            "res1a_conv1 (Conv2D)            (None, 64, 64, 64)   1792        input_1[0][0]                    \n",
            "__________________________________________________________________________________________________\n",
            "pre1a_bn_conv1 (BatchNormalizat (None, 64, 64, 64)   256         res1a_conv1[0][0]                \n",
            "__________________________________________________________________________________________________\n",
            "activation_1 (Activation)       (None, 64, 64, 64)   0           pre1a_bn_conv1[0][0]             \n",
            "__________________________________________________________________________________________________\n",
            "max_pooling2d_1 (MaxPooling2D)  (None, 32, 32, 64)   0           activation_1[0][0]               \n",
            "__________________________________________________________________________________________________\n",
            "res2a_branch2a (SeparableConv2D (None, 32, 32, 32)   2656        max_pooling2d_1[0][0]            \n",
            "__________________________________________________________________________________________________\n",
            "bn2a_branch2a (BatchNormalizati (None, 32, 32, 32)   128         res2a_branch2a[0][0]             \n",
            "__________________________________________________________________________________________________\n",
            "activation_2 (Activation)       (None, 32, 32, 32)   0           bn2a_branch2a[0][0]              \n",
            "__________________________________________________________________________________________________\n",
            "res2a_branch2b (SeparableConv2D (None, 32, 32, 64)   2400        activation_2[0][0]               \n",
            "__________________________________________________________________________________________________\n",
            "bn2a_branch2b (BatchNormalizati (None, 32, 32, 64)   256         res2a_branch2b[0][0]             \n",
            "__________________________________________________________________________________________________\n",
            "activation_3 (Activation)       (None, 32, 32, 64)   0           bn2a_branch2b[0][0]              \n",
            "__________________________________________________________________________________________________\n",
            "res2a_branch2c (SeparableConv2D (None, 32, 32, 128)  8896        activation_3[0][0]               \n",
            "__________________________________________________________________________________________________\n",
            "res2a_branch1 (SeparableConv2D) (None, 32, 32, 128)  8896        max_pooling2d_1[0][0]            \n",
            "__________________________________________________________________________________________________\n",
            "bn2a_branch2c (BatchNormalizati (None, 32, 32, 128)  512         res2a_branch2c[0][0]             \n",
            "__________________________________________________________________________________________________\n",
            "bn2a_branch1 (BatchNormalizatio (None, 32, 32, 128)  512         res2a_branch1[0][0]              \n",
            "__________________________________________________________________________________________________\n",
            "add_1 (Add)                     (None, 32, 32, 128)  0           bn2a_branch2c[0][0]              \n",
            "                                                                 bn2a_branch1[0][0]               \n",
            "__________________________________________________________________________________________________\n",
            "activation_4 (Activation)       (None, 32, 32, 128)  0           add_1[0][0]                      \n",
            "__________________________________________________________________________________________________\n",
            "max_pooling2d_2 (MaxPooling2D)  (None, 16, 16, 128)  0           activation_4[0][0]               \n",
            "__________________________________________________________________________________________________\n",
            "res3a_branch2a (SeparableConv2D (None, 16, 16, 64)   9408        max_pooling2d_2[0][0]            \n",
            "__________________________________________________________________________________________________\n",
            "bn3a_branch2a (BatchNormalizati (None, 16, 16, 64)   256         res3a_branch2a[0][0]             \n",
            "__________________________________________________________________________________________________\n",
            "activation_5 (Activation)       (None, 16, 16, 64)   0           bn3a_branch2a[0][0]              \n",
            "__________________________________________________________________________________________________\n",
            "res3a_branch2b (SeparableConv2D (None, 16, 16, 128)  8896        activation_5[0][0]               \n",
            "__________________________________________________________________________________________________\n",
            "bn3a_branch2b (BatchNormalizati (None, 16, 16, 128)  512         res3a_branch2b[0][0]             \n",
            "__________________________________________________________________________________________________\n",
            "activation_6 (Activation)       (None, 16, 16, 128)  0           bn3a_branch2b[0][0]              \n",
            "__________________________________________________________________________________________________\n",
            "res3a_branch2c (SeparableConv2D (None, 16, 16, 256)  34176       activation_6[0][0]               \n",
            "__________________________________________________________________________________________________\n",
            "res3a_branch1 (SeparableConv2D) (None, 16, 16, 256)  34176       max_pooling2d_2[0][0]            \n",
            "__________________________________________________________________________________________________\n",
            "bn3a_branch2c (BatchNormalizati (None, 16, 16, 256)  1024        res3a_branch2c[0][0]             \n",
            "__________________________________________________________________________________________________\n",
            "bn3a_branch1 (BatchNormalizatio (None, 16, 16, 256)  1024        res3a_branch1[0][0]              \n",
            "__________________________________________________________________________________________________\n",
            "add_2 (Add)                     (None, 16, 16, 256)  0           bn3a_branch2c[0][0]              \n",
            "                                                                 bn3a_branch1[0][0]               \n",
            "__________________________________________________________________________________________________\n",
            "activation_7 (Activation)       (None, 16, 16, 256)  0           add_2[0][0]                      \n",
            "__________________________________________________________________________________________________\n",
            "res3b_branch2a (SeparableConv2D (None, 16, 16, 64)   18752       activation_7[0][0]               \n",
            "__________________________________________________________________________________________________\n",
            "bn3b_branch2a (BatchNormalizati (None, 16, 16, 64)   256         res3b_branch2a[0][0]             \n",
            "__________________________________________________________________________________________________\n",
            "activation_8 (Activation)       (None, 16, 16, 64)   0           bn3b_branch2a[0][0]              \n",
            "__________________________________________________________________________________________________\n",
            "res3b_branch2b (SeparableConv2D (None, 16, 16, 128)  8896        activation_8[0][0]               \n",
            "__________________________________________________________________________________________________\n",
            "bn3b_branch2b (BatchNormalizati (None, 16, 16, 128)  512         res3b_branch2b[0][0]             \n",
            "__________________________________________________________________________________________________\n",
            "activation_9 (Activation)       (None, 16, 16, 128)  0           bn3b_branch2b[0][0]              \n",
            "__________________________________________________________________________________________________\n",
            "res3b_branch2c (SeparableConv2D (None, 16, 16, 256)  34176       activation_9[0][0]               \n",
            "__________________________________________________________________________________________________\n",
            "bn3b_branch2c (BatchNormalizati (None, 16, 16, 256)  1024        res3b_branch2c[0][0]             \n",
            "__________________________________________________________________________________________________\n",
            "add_3 (Add)                     (None, 16, 16, 256)  0           bn3b_branch2c[0][0]              \n",
            "                                                                 activation_7[0][0]               \n",
            "__________________________________________________________________________________________________\n",
            "activation_10 (Activation)      (None, 16, 16, 256)  0           add_3[0][0]                      \n",
            "__________________________________________________________________________________________________\n",
            "max_pooling2d_3 (MaxPooling2D)  (None, 8, 8, 256)    0           activation_10[0][0]              \n",
            "__________________________________________________________________________________________________\n",
            "res4a_branch2a (SeparableConv2D (None, 8, 8, 256)    68096       max_pooling2d_3[0][0]            \n",
            "__________________________________________________________________________________________________\n",
            "bn4a_branch2a (BatchNormalizati (None, 8, 8, 256)    1024        res4a_branch2a[0][0]             \n",
            "__________________________________________________________________________________________________\n",
            "activation_11 (Activation)      (None, 8, 8, 256)    0           bn4a_branch2a[0][0]              \n",
            "__________________________________________________________________________________________________\n",
            "res4a_branch2b (SeparableConv2D (None, 8, 8, 512)    133888      activation_11[0][0]              \n",
            "__________________________________________________________________________________________________\n",
            "bn4a_branch2b (BatchNormalizati (None, 8, 8, 512)    2048        res4a_branch2b[0][0]             \n",
            "__________________________________________________________________________________________________\n",
            "activation_12 (Activation)      (None, 8, 8, 512)    0           bn4a_branch2b[0][0]              \n",
            "__________________________________________________________________________________________________\n",
            "res4a_branch2c (SeparableConv2D (None, 8, 8, 2048)   1055232     activation_12[0][0]              \n",
            "__________________________________________________________________________________________________\n",
            "res4a_branch1 (SeparableConv2D) (None, 8, 8, 2048)   528640      max_pooling2d_3[0][0]            \n",
            "__________________________________________________________________________________________________\n",
            "bn4a_branch2c (BatchNormalizati (None, 8, 8, 2048)   8192        res4a_branch2c[0][0]             \n",
            "__________________________________________________________________________________________________\n",
            "bn4a_branch1 (BatchNormalizatio (None, 8, 8, 2048)   8192        res4a_branch1[0][0]              \n",
            "__________________________________________________________________________________________________\n",
            "add_4 (Add)                     (None, 8, 8, 2048)   0           bn4a_branch2c[0][0]              \n",
            "                                                                 bn4a_branch1[0][0]               \n",
            "__________________________________________________________________________________________________\n",
            "activation_13 (Activation)      (None, 8, 8, 2048)   0           add_4[0][0]                      \n",
            "__________________________________________________________________________________________________\n",
            "res4b_branch2a (SeparableConv2D (None, 8, 8, 512)    1067520     activation_13[0][0]              \n",
            "__________________________________________________________________________________________________\n",
            "bn4b_branch2a (BatchNormalizati (None, 8, 8, 512)    2048        res4b_branch2a[0][0]             \n",
            "__________________________________________________________________________________________________\n",
            "activation_14 (Activation)      (None, 8, 8, 512)    0           bn4b_branch2a[0][0]              \n",
            "__________________________________________________________________________________________________\n",
            "res4b_branch2b (SeparableConv2D (None, 8, 8, 1024)   529920      activation_14[0][0]              \n",
            "__________________________________________________________________________________________________\n",
            "bn4b_branch2b (BatchNormalizati (None, 8, 8, 1024)   4096        res4b_branch2b[0][0]             \n",
            "__________________________________________________________________________________________________\n",
            "activation_15 (Activation)      (None, 8, 8, 1024)   0           bn4b_branch2b[0][0]              \n",
            "__________________________________________________________________________________________________\n",
            "res4b_branch2c (SeparableConv2D (None, 8, 8, 2048)   2108416     activation_15[0][0]              \n",
            "__________________________________________________________________________________________________\n",
            "bn4b_branch2c (BatchNormalizati (None, 8, 8, 2048)   8192        res4b_branch2c[0][0]             \n",
            "__________________________________________________________________________________________________\n",
            "add_5 (Add)                     (None, 8, 8, 2048)   0           bn4b_branch2c[0][0]              \n",
            "                                                                 activation_13[0][0]              \n",
            "__________________________________________________________________________________________________\n",
            "activation_16 (Activation)      (None, 8, 8, 2048)   0           add_5[0][0]                      \n",
            "__________________________________________________________________________________________________\n",
            "last_conv (SeparableConv2D)     (None, 8, 8, 200)    428232      activation_16[0][0]              \n",
            "__________________________________________________________________________________________________\n",
            "global_average_pooling2d_1 (Glo (None, 200)          0           last_conv[0][0]                  \n",
            "__________________________________________________________________________________________________\n",
            "activation_17 (Activation)      (None, 200)          0           global_average_pooling2d_1[0][0] \n",
            "==================================================================================================\n",
            "Total params: 6,133,128\n",
            "Trainable params: 6,113,096\n",
            "Non-trainable params: 20,032\n",
            "__________________________________________________________________________________________________\n"
          ],
          "name": "stdout"
        }
      ]
    },
    {
      "metadata": {
        "id": "cTtGTFdwL7P8",
        "colab_type": "code",
        "colab": {}
      },
      "cell_type": "code",
      "source": [
        "from keras.callbacks import EarlyStopping,ModelCheckpoint\n",
        "import os\n",
        "\n",
        "checkpoint = ModelCheckpoint('weights.{epoch:04d}-{val_loss:.2f}.hdf5',\n",
        "                             monitor='val_loss', \n",
        "                             save_best_only=False,\n",
        "                             save_weights_only = True,\n",
        "                             period = 5)\n",
        "\n",
        "callbacks_list = [checkpoint]"
      ],
      "execution_count": 0,
      "outputs": []
    },
    {
      "metadata": {
        "id": "CEyvk4629CWh",
        "colab_type": "code",
        "colab": {}
      },
      "cell_type": "code",
      "source": [
        "model.compile(optimizer='adam', loss='categorical_crossentropy', metrics=['accuracy'])"
      ],
      "execution_count": 0,
      "outputs": []
    },
    {
      "metadata": {
        "id": "71wO4Rbt4Rpr",
        "colab_type": "code",
        "outputId": "2524e35a-4aac-4646-d56d-657c589a53b8",
        "colab": {
          "base_uri": "https://localhost:8080/",
          "height": 1805
        }
      },
      "cell_type": "code",
      "source": [
        "model.fit_generator(train_generator, epochs=50, steps_per_epoch=200, validation_steps=200, validation_data=validation_generator, callbacks = callbacks_list)"
      ],
      "execution_count": 0,
      "outputs": [
        {
          "output_type": "stream",
          "text": [
            "WARNING:tensorflow:From /usr/local/lib/python3.6/dist-packages/tensorflow/python/ops/math_ops.py:3066: to_int32 (from tensorflow.python.ops.math_ops) is deprecated and will be removed in a future version.\n",
            "Instructions for updating:\n",
            "Use tf.cast instead.\n",
            "Epoch 1/50\n",
            "200/200 [==============================] - 447s 2s/step - loss: 4.6842 - acc: 0.0569 - val_loss: 4.2373 - val_acc: 0.1080\n",
            "Epoch 2/50\n",
            "200/200 [==============================] - 420s 2s/step - loss: 4.2352 - acc: 0.1134 - val_loss: 3.8554 - val_acc: 0.1589\n",
            "Epoch 3/50\n",
            "200/200 [==============================] - 420s 2s/step - loss: 3.9915 - acc: 0.1459 - val_loss: 3.6466 - val_acc: 0.1975\n",
            "Epoch 4/50\n",
            "200/200 [==============================] - 420s 2s/step - loss: 3.7886 - acc: 0.1764 - val_loss: 3.4810 - val_acc: 0.2242\n",
            "Epoch 5/50\n",
            "200/200 [==============================] - 421s 2s/step - loss: 3.6283 - acc: 0.2020 - val_loss: 3.3005 - val_acc: 0.2501\n",
            "Epoch 6/50\n",
            "200/200 [==============================] - 421s 2s/step - loss: 3.4957 - acc: 0.2249 - val_loss: 3.1595 - val_acc: 0.2792\n",
            "Epoch 7/50\n",
            "200/200 [==============================] - 420s 2s/step - loss: 3.3730 - acc: 0.2439 - val_loss: 3.0562 - val_acc: 0.2999\n",
            "Epoch 8/50\n",
            "200/200 [==============================] - 419s 2s/step - loss: 3.2709 - acc: 0.2610 - val_loss: 2.9404 - val_acc: 0.3219\n",
            "Epoch 9/50\n",
            "200/200 [==============================] - 420s 2s/step - loss: 3.1734 - acc: 0.2793 - val_loss: 2.9004 - val_acc: 0.3263\n",
            "Epoch 10/50\n",
            "200/200 [==============================] - 420s 2s/step - loss: 3.0808 - acc: 0.2957 - val_loss: 2.8708 - val_acc: 0.3375\n",
            "Epoch 11/50\n",
            "200/200 [==============================] - 419s 2s/step - loss: 3.0072 - acc: 0.3095 - val_loss: 2.7374 - val_acc: 0.3631\n",
            "Epoch 12/50\n",
            "200/200 [==============================] - 419s 2s/step - loss: 2.9314 - acc: 0.3220 - val_loss: 2.7186 - val_acc: 0.3705\n",
            "Epoch 13/50\n",
            "200/200 [==============================] - 419s 2s/step - loss: 2.8564 - acc: 0.3363 - val_loss: 2.6679 - val_acc: 0.3783\n",
            "Epoch 14/50\n",
            "200/200 [==============================] - 418s 2s/step - loss: 2.7972 - acc: 0.3473 - val_loss: 2.6034 - val_acc: 0.3919\n",
            "Epoch 15/50\n",
            "200/200 [==============================] - 418s 2s/step - loss: 2.7279 - acc: 0.3598 - val_loss: 2.5733 - val_acc: 0.3977\n",
            "Epoch 16/50\n",
            "200/200 [==============================] - 419s 2s/step - loss: 2.6713 - acc: 0.3707 - val_loss: 2.5538 - val_acc: 0.3984\n",
            "Epoch 17/50\n",
            "200/200 [==============================] - 419s 2s/step - loss: 2.6196 - acc: 0.3802 - val_loss: 2.5306 - val_acc: 0.4083\n",
            "Epoch 18/50\n",
            "200/200 [==============================] - 419s 2s/step - loss: 2.5500 - acc: 0.3939 - val_loss: 2.5231 - val_acc: 0.4110\n",
            "Epoch 19/50\n",
            "200/200 [==============================] - 418s 2s/step - loss: 2.5041 - acc: 0.4033 - val_loss: 2.4683 - val_acc: 0.4210\n",
            "Epoch 20/50\n",
            "200/200 [==============================] - 419s 2s/step - loss: 2.4431 - acc: 0.4154 - val_loss: 2.4760 - val_acc: 0.4233\n",
            "Epoch 21/50\n",
            "200/200 [==============================] - 419s 2s/step - loss: 2.3868 - acc: 0.4244 - val_loss: 2.4319 - val_acc: 0.4282\n",
            "Epoch 22/50\n",
            "200/200 [==============================] - 418s 2s/step - loss: 2.3414 - acc: 0.4342 - val_loss: 2.4155 - val_acc: 0.4394\n",
            "Epoch 23/50\n",
            "200/200 [==============================] - 418s 2s/step - loss: 2.2985 - acc: 0.4457 - val_loss: 2.3942 - val_acc: 0.4412\n",
            "Epoch 24/50\n",
            "200/200 [==============================] - 418s 2s/step - loss: 2.2385 - acc: 0.4548 - val_loss: 2.3640 - val_acc: 0.4454\n",
            "Epoch 25/50\n",
            "200/200 [==============================] - 418s 2s/step - loss: 2.1921 - acc: 0.4646 - val_loss: 2.3846 - val_acc: 0.4413\n",
            "Epoch 26/50\n",
            "200/200 [==============================] - 419s 2s/step - loss: 2.1404 - acc: 0.4752 - val_loss: 2.3875 - val_acc: 0.4443\n",
            "Epoch 27/50\n",
            "200/200 [==============================] - 418s 2s/step - loss: 2.0970 - acc: 0.4807 - val_loss: 2.4065 - val_acc: 0.4479\n",
            "Epoch 28/50\n",
            "200/200 [==============================] - 418s 2s/step - loss: 2.0421 - acc: 0.4925 - val_loss: 2.3836 - val_acc: 0.4523\n",
            "Epoch 29/50\n",
            "200/200 [==============================] - 418s 2s/step - loss: 1.9993 - acc: 0.5009 - val_loss: 2.4460 - val_acc: 0.4393\n",
            "Epoch 30/50\n",
            "200/200 [==============================] - 418s 2s/step - loss: 1.9404 - acc: 0.5138 - val_loss: 2.3946 - val_acc: 0.4535\n",
            "Epoch 31/50\n",
            "200/200 [==============================] - 418s 2s/step - loss: 1.9090 - acc: 0.5206 - val_loss: 2.3944 - val_acc: 0.4558\n",
            "Epoch 32/50\n",
            "200/200 [==============================] - 418s 2s/step - loss: 1.8508 - acc: 0.5320 - val_loss: 2.4811 - val_acc: 0.4405\n",
            "Epoch 33/50\n",
            "200/200 [==============================] - 418s 2s/step - loss: 1.8078 - acc: 0.5429 - val_loss: 2.4719 - val_acc: 0.4433\n",
            "Epoch 34/50\n",
            "200/200 [==============================] - 419s 2s/step - loss: 1.7645 - acc: 0.5493 - val_loss: 2.4828 - val_acc: 0.4503\n",
            "Epoch 35/50\n",
            "200/200 [==============================] - 418s 2s/step - loss: 1.7171 - acc: 0.5624 - val_loss: 2.4465 - val_acc: 0.4548\n",
            "Epoch 36/50\n",
            "200/200 [==============================] - 418s 2s/step - loss: 1.6641 - acc: 0.5720 - val_loss: 2.5116 - val_acc: 0.4518\n",
            "Epoch 37/50\n",
            "200/200 [==============================] - 418s 2s/step - loss: 1.6232 - acc: 0.5793 - val_loss: 2.5244 - val_acc: 0.4496\n",
            "Epoch 38/50\n",
            "200/200 [==============================] - 418s 2s/step - loss: 1.5761 - acc: 0.5925 - val_loss: 2.5637 - val_acc: 0.4455\n",
            "Epoch 39/50\n",
            "200/200 [==============================] - 418s 2s/step - loss: 1.5344 - acc: 0.6003 - val_loss: 2.5284 - val_acc: 0.4568\n",
            "Epoch 40/50\n",
            "200/200 [==============================] - 418s 2s/step - loss: 1.4905 - acc: 0.6093 - val_loss: 2.6154 - val_acc: 0.4457\n",
            "Epoch 41/50\n",
            "200/200 [==============================] - 417s 2s/step - loss: 1.4455 - acc: 0.6205 - val_loss: 2.6409 - val_acc: 0.4472\n",
            "Epoch 42/50\n",
            "200/200 [==============================] - 418s 2s/step - loss: 1.4008 - acc: 0.6310 - val_loss: 2.6679 - val_acc: 0.4451\n",
            "Epoch 43/50\n",
            "200/200 [==============================] - 420s 2s/step - loss: 1.3619 - acc: 0.6396 - val_loss: 2.7180 - val_acc: 0.4431\n",
            "Epoch 44/50\n",
            "200/200 [==============================] - 420s 2s/step - loss: 1.3276 - acc: 0.6471 - val_loss: 2.7000 - val_acc: 0.4505\n",
            "Epoch 45/50\n",
            "200/200 [==============================] - 420s 2s/step - loss: 1.2868 - acc: 0.6567 - val_loss: 2.7597 - val_acc: 0.4419\n",
            "Epoch 46/50\n",
            "200/200 [==============================] - 420s 2s/step - loss: 1.2477 - acc: 0.6661 - val_loss: 2.7969 - val_acc: 0.4382\n",
            "Epoch 47/50\n",
            "200/200 [==============================] - 420s 2s/step - loss: 1.2006 - acc: 0.6764 - val_loss: 2.8356 - val_acc: 0.4376\n",
            "Epoch 48/50\n",
            "200/200 [==============================] - 419s 2s/step - loss: 1.1827 - acc: 0.6822 - val_loss: 2.8446 - val_acc: 0.4410\n",
            "Epoch 49/50\n",
            "200/200 [==============================] - 418s 2s/step - loss: 1.1435 - acc: 0.6896 - val_loss: 2.9271 - val_acc: 0.4357\n",
            "Epoch 50/50\n",
            "200/200 [==============================] - 420s 2s/step - loss: 1.1087 - acc: 0.6999 - val_loss: 2.9485 - val_acc: 0.4380\n"
          ],
          "name": "stdout"
        },
        {
          "output_type": "execute_result",
          "data": {
            "text/plain": [
              "<keras.callbacks.History at 0x7f9ca689b240>"
            ]
          },
          "metadata": {
            "tags": []
          },
          "execution_count": 19
        }
      ]
    },
    {
      "metadata": {
        "id": "Pflgp_Tb_drk",
        "colab_type": "code",
        "colab": {}
      },
      "cell_type": "code",
      "source": [
        "!du"
      ],
      "execution_count": 0,
      "outputs": []
    },
    {
      "metadata": {
        "id": "si_Cnkm97b8c",
        "colab_type": "text"
      },
      "cell_type": "markdown",
      "source": [
        ""
      ]
    },
    {
      "metadata": {
        "id": "4u7869eJwHSo",
        "colab_type": "code",
        "colab": {}
      },
      "cell_type": "code",
      "source": [
        "model.save_weights(\"Tiny_Imagenet_Basic_model2.h5\")\n",
        "print(\"Saved the model to disk\")\n",
        "from google.colab import files\n",
        "\n",
        "files.download('Tiny_Imagenet_Basic_model2.h5')"
      ],
      "execution_count": 0,
      "outputs": []
    }
  ]
}